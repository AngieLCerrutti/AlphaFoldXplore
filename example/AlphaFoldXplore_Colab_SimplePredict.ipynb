{
  "nbformat": 4,
  "nbformat_minor": 0,
  "metadata": {
    "colab": {
      "provenance": [],
      "collapsed_sections": []
    },
    "kernelspec": {
      "name": "python3",
      "display_name": "Python 3"
    },
    "language_info": {
      "name": "python"
    },
    "accelerator": "GPU",
    "gpuClass": "standard"
  },
  "cells": [
    {
      "cell_type": "markdown",
      "source": [
        "## 1. Upload your FASTA file \n",
        "\n",
        "#### Select the folder icon on the column to the left, then select the paper icon with an upwards arrow to upload your FASTA file.\n",
        "\n",
        "<img src=\"https://drive.google.com/uc?id=1a9QqqN0gpwOsrmlXD0gEfh_7MoKlkqpV\">"
      ],
      "metadata": {
        "id": "V05tWVJ1Obmd"
      }
    },
    {
      "cell_type": "markdown",
      "source": [
        "##2. Run \n",
        "\n",
        "####Please execute this cell by pressing the button below to run AlphaFoldXplore. This will easily generate terciary structure predictions in the shape of compressed files that will also download to your computer. You will be prompted to allow multiple downloads if you uploaded a multiFASTA file.\n",
        "\n",
        "#### Be patient to let everything download on the first run."
      ],
      "metadata": {
        "id": "UUNJhjDyRGVK"
      }
    },
    {
      "cell_type": "code",
      "source": [
        "!git clone https://github.com/AngieLCerrutti/AlphaFoldXplore\n",
        "!pip install biopython\n",
        "from AlphaFoldXplore import alphafoldxplore as afx\n",
        "afx.set_up()\n",
        "result = afx.run()\n",
        "print(result)"
      ],
      "metadata": {
        "id": "XvWfv5YXKa8i"
      },
      "execution_count": null,
      "outputs": []
    },
    {
      "cell_type": "markdown",
      "source": [
        "##3. How do results look like?\n",
        "\n",
        "####When you finished your predictions, you can visualize them on your local machine or explore its properties. Such functionality is also on Colab, although on a limited way.\n",
        "\n",
        "#### Click the button below to have a glimpse at the kind of results you can explore."
      ],
      "metadata": {
        "id": "9-RqTHkGs9uW"
      }
    },
    {
      "cell_type": "code",
      "source": [
        "if len(result) > 1:\n",
        "  print(f\"using {result['p1'].name} and {result['p2'].name}\")\n",
        "  result['p1'].plot_pae(result['p2'])\n",
        "  result['p1'].plot_plddt(result['p2'])\n",
        "  p2f = result['p1'].fit(result['p2'])\n",
        "  temp = result['p1'].rmsd(p2f)\n",
        "else:\n",
        "  print(f\"Using {result['p1'].name}\")\n",
        "  result['p1'].plot_pae()\n",
        "  result['p1'].plot_plddt()"
      ],
      "metadata": {
        "id": "S4tk6z5utmIA"
      },
      "execution_count": null,
      "outputs": []
    }
  ]
}