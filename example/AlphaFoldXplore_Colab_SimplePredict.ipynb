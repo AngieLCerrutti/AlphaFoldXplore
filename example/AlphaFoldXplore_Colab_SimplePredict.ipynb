{
  "nbformat": 4,
  "nbformat_minor": 0,
  "metadata": {
    "colab": {
      "provenance": []
    },
    "kernelspec": {
      "name": "python3",
      "display_name": "Python 3"
    },
    "language_info": {
      "name": "python"
    },
    "accelerator": "GPU",
    "gpuClass": "standard"
  },
  "cells": [
    {
      "cell_type": "markdown",
      "source": [
        "## 1. Upload your FASTA file\n",
        "\n",
        "#### Select the folder icon on the column to the left, then select the paper icon with an upwards arrow to upload your FASTA file.\n",
        "\n",
        "<img src=\"https://drive.google.com/uc?id=1a9QqqN0gpwOsrmlXD0gEfh_7MoKlkqpV\">\n",
        "\n",
        "\n",
        "#### Optionally, follow step 1 and drag your file to the column to upload it."
      ],
      "metadata": {
        "id": "V05tWVJ1Obmd"
      }
    },
    {
      "cell_type": "markdown",
      "source": [
        "##2. Run\n",
        "\n",
        "####Please execute this cell by pressing the button below to run AlphaFoldXplore. This will easily generate terciary structure predictions (with additional results, check the [wiki](https://github.com/AngieLCerrutti/AlphaFoldXplore/wiki)) and will be stored on your computer in the shape of an .afxt file that stores everything.\n",
        "\n",
        "#### Be patient to let everything download on the first run (it's not downloaded on your computer, but on the cloud!).\n",
        "\n",
        "#### AlphaFoldXplore takes about 3 minutes on average per structure prediction, and ***can only admit proteins up to 600 AA*** in this Colab notebook. If you have Colab Pro it's likely that the limit is doubled."
      ],
      "metadata": {
        "id": "UUNJhjDyRGVK"
      }
    },
    {
      "cell_type": "code",
      "source": [
        "!git clone -b cf2024 https://github.com/AngieLCerrutti/AlphaFoldXplore\n",
        "!pip install biopython\n",
        "from AlphaFoldXplore import alphafoldxplore as afx\n",
        "afx.set_up()\n",
        "result = afx.run()\n",
        "print(result)"
      ],
      "metadata": {
        "id": "XvWfv5YXKa8i"
      },
      "execution_count": null,
      "outputs": []
    },
    {
      "cell_type": "markdown",
      "source": [
        "Please report any errors."
      ],
      "metadata": {
        "id": "OC_ZubyVaw8O"
      }
    }
  ]
}