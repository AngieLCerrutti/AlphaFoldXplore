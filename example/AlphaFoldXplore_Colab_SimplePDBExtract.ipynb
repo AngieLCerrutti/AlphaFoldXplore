{
  "nbformat": 4,
  "nbformat_minor": 0,
  "metadata": {
    "colab": {
      "provenance": [],
      "collapsed_sections": []
    },
    "kernelspec": {
      "name": "python3",
      "display_name": "Python 3"
    },
    "language_info": {
      "name": "python"
    },
    "accelerator": "GPU",
    "gpuClass": "standard"
  },
  "cells": [
    {
      "cell_type": "markdown",
      "source": [
        "## 1. Upload your FASTA file \n",
        "\n",
        "#### Select the folder icon on the column to the left, then select the paper icon with an upwards arrow to upload your .afxt file.\n",
        "\n",
        "<img src=\"https://drive.google.com/uc?id=1a9QqqN0gpwOsrmlXD0gEfh_7MoKlkqpV\">\n",
        "\n",
        "\n",
        "#### Optionally, follow step 1 and drag your file to the column to upload it."
      ],
      "metadata": {
        "id": "V05tWVJ1Obmd"
      }
    },
    {
      "cell_type": "markdown",
      "source": [
        "##2. Run \n",
        "\n",
        "####Please execute this cell by pressing the button below to run AlphaFoldXplore. This will easily get all .PDB files of an AlphaFoldXplore result and store them on your computer in the shape of a .zip file."
      ],
      "metadata": {
        "id": "UUNJhjDyRGVK"
      }
    },
    {
      "cell_type": "code",
      "source": [
        "!git clone -b misc_changes https://github.com/AngieLCerrutti/AlphaFoldXplore\n",
        "!pip install biopython==1.80\n",
        "!pip install jax==0.3.15\n",
        "!pip install -U jaxlib==0.3.15+cuda11.cudnn805 -f https://storage.googleapis.com/jax-releases/jax_cuda_releases.html\n",
        "!pip install dm-haiku==0.0.9\n",
        "from AlphaFoldXplore import alphafoldxplore as afx\n",
        "import os\n",
        "from google.colab import files\n",
        "afx.clean()\n",
        "result = afx.run()\n",
        "afx.extract_zips(result['p1'].directory.partition(\"/\")[0])\n",
        "os.system(f\"zip -FSr -D {result['p1'].directory.partition('/')[0]}_pdbs.zip pdb_files\")\n",
        "files.download(f\"{result['p1'].directory.partition('/')[0]}_pdbs.zip\")"
      ],
      "metadata": {
        "id": "XvWfv5YXKa8i"
      },
      "execution_count": null,
      "outputs": []
    },
    {
      "cell_type": "markdown",
      "source": [
        "Please report any errors."
      ],
      "metadata": {
        "id": "OC_ZubyVaw8O"
      }
    }
  ]
}
